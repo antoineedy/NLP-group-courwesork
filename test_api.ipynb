{
 "cells": [
  {
   "cell_type": "code",
   "execution_count": 1,
   "metadata": {},
   "outputs": [
    {
     "data": {
      "text/plain": [
       "{'error': 'Authorization header is correct, but the token seems invalid'}"
      ]
     },
     "execution_count": 1,
     "metadata": {},
     "output_type": "execute_result"
    }
   ],
   "source": [
    "import requests\n",
    "\n",
    "API_URL = \"https://api-inference.huggingface.co/models/antoineedy/stanford-deidentifier-base-finetuned-ner\"\n",
    "headers = {\"Authorization\": \"Bearer ***\"}\n",
    "\n",
    "def query(payload):\n",
    "\tresponse = requests.post(API_URL, headers=headers, json=payload)\n",
    "\treturn response.json()\n",
    "\t\n",
    "output = query({\n",
    "\t\"inputs\": \"I want to make an appointment ASAP!\",\n",
    "})\n",
    "output"
   ]
  },
  {
   "cell_type": "code",
   "execution_count": 3,
   "metadata": {},
   "outputs": [
    {
     "name": "stdout",
     "output_type": "stream",
     "text": [
      "-----  ---  ----  ---\n",
      "Hello  my   name  is\n",
      "  O     O    O     O\n",
      " 0.9   0.8  0.7   0.6\n",
      "-----  ---  ----  ---\n"
     ]
    }
   ],
   "source": [
    "words = ['Hello', 'my', 'name', 'is']\n",
    "labels = ['O', 'O', 'O', 'O']\n",
    "confidence = [0.9, 0.8, 0.7, 0.6]\n",
    "all = [words, labels, confidence]\n",
    "\n",
    "from tabulate import tabulate\n",
    "\n",
    "table = tabulate(tabular_data=all, numalign=\"center\", stralign=\"center\")\n",
    "\n",
    "print(table)\n"
   ]
  }
 ],
 "metadata": {
  "kernelspec": {
   "display_name": "code2",
   "language": "python",
   "name": "python3"
  },
  "language_info": {
   "codemirror_mode": {
    "name": "ipython",
    "version": 3
   },
   "file_extension": ".py",
   "mimetype": "text/x-python",
   "name": "python",
   "nbconvert_exporter": "python",
   "pygments_lexer": "ipython3",
   "version": "3.10.12"
  }
 },
 "nbformat": 4,
 "nbformat_minor": 2
}
