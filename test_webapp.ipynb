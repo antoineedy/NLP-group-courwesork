{
 "cells": [
  {
   "cell_type": "code",
   "execution_count": 1,
   "metadata": {},
   "outputs": [],
   "source": [
    "from selenium import webdriver\n",
    "from selenium.webdriver.common.keys import Keys\n",
    "from selenium.webdriver.common.by import By\n",
    "from selenium.webdriver.common.action_chains import ActionChains\n",
    "import time\n",
    "import requests\n",
    "from copy import deepcopy\n",
    "\n",
    "def get_output(instance_tokens):\n",
    "    debug = False\n",
    "    if debug:\n",
    "        print(0, instance_tokens)\n",
    "    # Define the URL of the form endpoint\n",
    "    url = 'http://127.0.0.1:5000'\n",
    "\n",
    "    # Change the textarea (of name user_input) value to a custom text\n",
    "    text = \" \".join(instance_tokens)\n",
    "    data = {\n",
    "        'user_input': text\n",
    "    }\n",
    "\n",
    "    # Send the POST request\n",
    "    response = requests.post(url, data=data)\n",
    "\n",
    "    # get the p with the class \"text-result\"\n",
    "    if len(response.text) == 0:\n",
    "        return \"Attention! No output was found.\"\n",
    "    try:\n",
    "        out = response.text.split('<p class=\"text-result\">')[1].split('</p>')[0]\n",
    "    except:\n",
    "        print(response.text)\n",
    "    # create list\n",
    "    out = out.split('</span></span>')[:-1]\n",
    "    d = {'tokens': [],\n",
    "            'ner_tags': [],\n",
    "            'confidence': []}\n",
    "    for o in out:\n",
    "        # find where highlight label- is and add the number after it to the dictionary\n",
    "        d['ner_tags'].append(int(o.split('highlight label-')[1][0]))\n",
    "        # find the text of the label\n",
    "        text = o.split('\">')[1].split('<span')[0]\n",
    "        d['tokens'].append(text)\n",
    "        if len(text) == 1:\n",
    "            confidence = 100.0\n",
    "        else:\n",
    "            confidence = o[::-1][1:6][::-1]\n",
    "            if confidence[0] =='>':\n",
    "                confidence = confidence[1:]\n",
    "            confidence = float(confidence)\n",
    "        d['confidence'].append(confidence)\n",
    "\n",
    "    if debug:\n",
    "        print(1, d['tokens'])\n",
    "\n",
    "    # map d, 0->'B-O', 1->'B-AC', 2->'B-LF', 3->'I-LF'  \n",
    "    d['ner_tags'] = ['B-O' if x == 0 else 'B-AC' if x == 1 else 'B-LF' if x == 2 else 'I-LF' if x == 3 else 'ERROR' for x in d['ner_tags']]\n",
    "\n",
    "    # go through the tokens and if there is a space in the token, divide it into multiple tokens and add the same label and confidence\n",
    "\n",
    "    out = {'tokens': [], 'ner_tags': [], 'confidence': []}\n",
    "    for i in range(len(d['tokens'])):\n",
    "        if ' ' in d['tokens'][i]:\n",
    "            # split the token into multiple tokens\n",
    "            tokens = d['tokens'][i].split(' ')\n",
    "            for j in range(len(tokens)):\n",
    "                out['tokens'].append(tokens[j])\n",
    "                out['ner_tags'].append(d['ner_tags'][i])\n",
    "                out['confidence'].append(d['confidence'][i])\n",
    "        else:\n",
    "            out['tokens'].append(d['tokens'][i])\n",
    "            out['ner_tags'].append(d['ner_tags'][i])\n",
    "            out['confidence'].append(d['confidence'][i])\n",
    "\n",
    "    if debug:\n",
    "        print(2, out['tokens'])\n",
    "\n",
    "    tokens_to_merge = find_tokens_to_merge(out['tokens'], instance_tokens)         \n",
    "\n",
    "    new_out = deepcopy(out)\n",
    "\n",
    "    # Merge the tokens\n",
    "    to_remove = []\n",
    "    for merge_list in tokens_to_merge:\n",
    "        # Merge the tokens\n",
    "        merged_token = ''.join([out['tokens'][i] for i in merge_list])\n",
    "        out['tokens'][merge_list[0]] = merged_token\n",
    "        to_remove.append(merge_list[1:])\n",
    "        # Merge the NER tags\n",
    "        out['ner_tags'][merge_list[0]] = out['ner_tags'][merge_list[0]]\n",
    "        # Merge the confidence\n",
    "        out['confidence'][merge_list[0]] = out['confidence'][merge_list[0]]\n",
    "\n",
    "    # flatten to_remove\n",
    "    to_remove = [item for sublist in to_remove for item in sublist]\n",
    "\n",
    "    # remove the tokens that were merged\n",
    "    new_out['tokens'] = [i for j, i in enumerate(out['tokens']) if j not in to_remove]\n",
    "    new_out['ner_tags'] = [i for j, i in enumerate(out['ner_tags']) if j not in to_remove]\n",
    "    new_out['confidence'] = [i for j, i in enumerate(out['confidence']) if j not in to_remove]\n",
    "    out = new_out\n",
    "\n",
    "    if debug:\n",
    "        print(3, out['tokens'])\n",
    "\n",
    "    return(out)\n",
    "\n",
    "def find_tokens_to_merge(mine, theirs):\n",
    "    # Initialize indices and result list\n",
    "    mine_index = 0\n",
    "    theirs_index = 0\n",
    "    merged_indices = []\n",
    "\n",
    "    # Traverse through 'theirs' list to find corresponding tokens in 'mine'\n",
    "    while theirs_index < len(theirs):\n",
    "        # Start merging tokens from 'mine' to match the current 'theirs' token\n",
    "        temp_token = ''\n",
    "        merge_list = []\n",
    "        while mine_index < len(mine) and temp_token != theirs[theirs_index]:\n",
    "            temp_token += mine[mine_index]\n",
    "            merge_list.append(mine_index)\n",
    "            mine_index += 1\n",
    "\n",
    "        # Check if the tokens merged correctly\n",
    "        if temp_token == theirs[theirs_index]:\n",
    "            if len(merge_list) > 1:\n",
    "                merged_indices.append(merge_list)\n",
    "            theirs_index += 1\n",
    "        else:\n",
    "            print(\"Mine:\", mine)\n",
    "            print(\"Theirs:\", theirs)\n",
    "            raise ValueError(f\"Cannot merge tokens to match '{theirs[theirs_index]}' from '{mine}'\")\n",
    "\n",
    "    return merged_indices"
   ]
  },
  {
   "cell_type": "code",
   "execution_count": 2,
   "metadata": {},
   "outputs": [
    {
     "data": {
      "text/plain": [
       "{'tokens': ['I',\n",
       "  'want',\n",
       "  'to',\n",
       "  'see',\n",
       "  'you',\n",
       "  'ASAP',\n",
       "  '(',\n",
       "  'as',\n",
       "  'soon',\n",
       "  'as',\n",
       "  'possible',\n",
       "  ')',\n",
       "  '.'],\n",
       " 'ner_tags': ['B-O',\n",
       "  'B-O',\n",
       "  'B-O',\n",
       "  'B-O',\n",
       "  'B-O',\n",
       "  'B-AC',\n",
       "  'B-O',\n",
       "  'B-O',\n",
       "  'B-O',\n",
       "  'B-O',\n",
       "  'B-O',\n",
       "  'B-O',\n",
       "  'B-O'],\n",
       " 'confidence': [100.0,\n",
       "  99.99,\n",
       "  99.99,\n",
       "  99.99,\n",
       "  99.99,\n",
       "  99.98,\n",
       "  100.0,\n",
       "  99.99,\n",
       "  99.99,\n",
       "  99.99,\n",
       "  99.99,\n",
       "  100.0,\n",
       "  100.0]}"
      ]
     },
     "execution_count": 2,
     "metadata": {},
     "output_type": "execute_result"
    }
   ],
   "source": [
    "get_output(['I', 'want', 'to', 'see', 'you', 'ASAP', '(', 'as', 'soon', 'as', 'possible', ')', '.'])"
   ]
  },
  {
   "cell_type": "code",
   "execution_count": 3,
   "metadata": {},
   "outputs": [
    {
     "name": "stderr",
     "output_type": "stream",
     "text": [
      "/Users/antoineedy/Documents/MScAI/Semester2/NLP/Coursework/code2/lib/python3.10/site-packages/tqdm/auto.py:21: TqdmWarning: IProgress not found. Please update jupyter and ipywidgets. See https://ipywidgets.readthedocs.io/en/stable/user_install.html\n",
      "  from .autonotebook import tqdm as notebook_tqdm\n"
     ]
    }
   ],
   "source": [
    "from datasets import load_dataset\n",
    "\n",
    "dataset = load_dataset(\"surrey-nlp/PLOD-CW\")"
   ]
  },
  {
   "cell_type": "code",
   "execution_count": 4,
   "metadata": {},
   "outputs": [],
   "source": [
    "test_dataset = dataset['test']"
   ]
  },
  {
   "cell_type": "code",
   "execution_count": 5,
   "metadata": {},
   "outputs": [
    {
     "data": {
      "text/plain": [
       "{'tokens': ['Abbreviations',\n",
       "  ':',\n",
       "  'GEMS',\n",
       "  ',',\n",
       "  'Global',\n",
       "  'Enteric',\n",
       "  'Multicenter',\n",
       "  'Study',\n",
       "  ';',\n",
       "  'VIP',\n",
       "  ',',\n",
       "  'ventilated',\n",
       "  'improved',\n",
       "  'pit',\n",
       "  '.'],\n",
       " 'ner_tags': ['B-O',\n",
       "  'B-O',\n",
       "  'B-AC',\n",
       "  'B-O',\n",
       "  'B-LF',\n",
       "  'I-LF',\n",
       "  'I-LF',\n",
       "  'I-LF',\n",
       "  'B-O',\n",
       "  'B-AC',\n",
       "  'B-O',\n",
       "  'B-LF',\n",
       "  'I-LF',\n",
       "  'I-LF',\n",
       "  'B-O'],\n",
       " 'confidence': [99.99,\n",
       "  100.0,\n",
       "  100.0,\n",
       "  100.0,\n",
       "  100.0,\n",
       "  100.0,\n",
       "  100.0,\n",
       "  100.0,\n",
       "  100.0,\n",
       "  100.0,\n",
       "  100.0,\n",
       "  100.0,\n",
       "  99.99,\n",
       "  95.87,\n",
       "  100.0]}"
      ]
     },
     "execution_count": 5,
     "metadata": {},
     "output_type": "execute_result"
    }
   ],
   "source": [
    "get_output(test_dataset[0]['tokens'])"
   ]
  },
  {
   "cell_type": "code",
   "execution_count": 6,
   "metadata": {},
   "outputs": [],
   "source": [
    "def compare(test_dataset):\n",
    "    pred, true = [], []\n",
    "    for i, instance in enumerate(test_dataset):\n",
    "        pred.append(get_output(instance['tokens'])['ner_tags'])\n",
    "        true.append(instance['ner_tags'])\n",
    "        if len(pred[-1]) != len(true[-1]):\n",
    "            print(\"---- Error -----\")\n",
    "            print(instance['tokens'])\n",
    "            print(get_output(instance['tokens'])['tokens'])\n",
    "            break\n",
    "        if i % 20 == 0:\n",
    "            print(f\"Processed {i} sentences out of {len(test_dataset)}\")\n",
    "    # flatten the lists\n",
    "    pred = [item for sublist in pred for item in sublist]\n",
    "    true = [item for sublist in true for item in sublist]\n",
    "    return pred, true"
   ]
  },
  {
   "cell_type": "code",
   "execution_count": 7,
   "metadata": {},
   "outputs": [
    {
     "name": "stdout",
     "output_type": "stream",
     "text": [
      "Processed 0 sentences out of 153\n",
      "Processed 20 sentences out of 153\n",
      "Processed 40 sentences out of 153\n",
      "Processed 60 sentences out of 153\n",
      "Processed 80 sentences out of 153\n",
      "Processed 100 sentences out of 153\n",
      "Processed 120 sentences out of 153\n",
      "Processed 140 sentences out of 153\n"
     ]
    }
   ],
   "source": [
    "pred, true = compare(test_dataset)"
   ]
  },
  {
   "cell_type": "code",
   "execution_count": 8,
   "metadata": {},
   "outputs": [
    {
     "data": {
      "text/plain": [
       "(5000, 5000)"
      ]
     },
     "execution_count": 8,
     "metadata": {},
     "output_type": "execute_result"
    }
   ],
   "source": [
    "len(pred), len(true)"
   ]
  },
  {
   "cell_type": "code",
   "execution_count": 11,
   "metadata": {},
   "outputs": [
    {
     "data": {
      "image/png": "[encoded data removed]",
      "text/plain": [
       "<Figure size 1000x700 with 2 Axes>"
      ]
     },
     "metadata": {},
     "output_type": "display_data"
    }
   ],
   "source": [
    "# confusion matrix\n",
    "from sklearn.metrics import confusion_matrix\n",
    "import seaborn as sns\n",
    "import matplotlib.pyplot as plt\n",
    "\n",
    "cm = confusion_matrix(true, pred, labels=['B-O', 'B-AC', 'B-LF', 'I-LF'], normalize='true')\n",
    "plt.figure(figsize = (10,7))\n",
    "sns.heatmap(cm, annot=True, fmt='g', cmap='Blues', xticklabels=['B-O', 'B-AC', 'B-LF', 'I-LF'], yticklabels=['B-O', 'B-AC', 'B-LF', 'I-LF'])\n",
    "plt.xlabel('Predicted')\n",
    "plt.ylabel('True')\n",
    "plt.show()"
   ]
  }
 ],
 "metadata": {
  "kernelspec": {
   "display_name": "code2",
   "language": "python",
   "name": "python3"
  },
  "language_info": {
   "codemirror_mode": {
    "name": "ipython",
    "version": 3
   },
   "file_extension": ".py",
   "mimetype": "text/x-python",
   "name": "python",
   "nbconvert_exporter": "python",
   "pygments_lexer": "ipython3",
   "version": "3.10.12"
  }
 },
 "nbformat": 4,
 "nbformat_minor": 2
}
